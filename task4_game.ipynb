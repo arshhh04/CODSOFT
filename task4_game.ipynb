{
  "cells": [
    {
      "cell_type": "markdown",
      "metadata": {
        "id": "view-in-github",
        "colab_type": "text"
      },
      "source": [
        "<a href=\"https://colab.research.google.com/github/arshhh04/CODSOFT/blob/main/task4_game.ipynb\" target=\"_parent\"><img src=\"https://colab.research.google.com/assets/colab-badge.svg\" alt=\"Open In Colab\"/></a>"
      ]
    },
    {
      "cell_type": "code",
      "execution_count": null,
      "metadata": {
        "colab": {
          "background_save": true,
          "base_uri": "https://localhost:8080/"
        },
        "id": "n_MHhBsiaGhp",
        "outputId": "36578397-31b0-4392-f38c-daf2d8396738"
      },
      "outputs": [
        {
          "name": "stdout",
          "output_type": "stream",
          "text": [
            "Hii, Welcome to the game:ROCK,PAPER and SCISSORS\n",
            "Let's begin\n",
            "enter 1 if you want to choose rock\n",
            "enter 2 if you want to choose paper\n",
            "enter 3 if you want to choose scissors\n"
          ]
        }
      ],
      "source": [
        "import random\n",
        "\n",
        "print(\"Hii, Welcome to the game:ROCK,PAPER and SCISSORS\")\n",
        "print(\"Let's begin\")\n",
        "\n",
        "def botty():\n",
        "  option=[\"rock\",\"paper\",\"scissors\"]\n",
        "  bot=random.choice(option)\n",
        "  print(\"bot chose \", bot)\n",
        "  return(bot)\n",
        "\n",
        "def player():\n",
        "  print(\"enter 1 if you want to choose rock\")\n",
        "  print(\"enter 2 if you want to choose paper\")\n",
        "  print(\"enter 3 if you want to choose scissors\")\n",
        "  player_c=int(input(\"Enter your choice\"))\n",
        "  bot_choice = botty()\n",
        "  if player_c==1:\n",
        "    print(\"you chose rock\")\n",
        "    winner(player_c,bot_choice)\n",
        "  elif player_c==2:\n",
        "    print(\"you chose paper\")\n",
        "    winner(player_c,bot_choice)\n",
        "  elif player_c==3:\n",
        "    print(\"you chose scissors\")\n",
        "    winner(player_c,bot_choice)\n",
        "  else:\n",
        "    print(\"invalid input\")\n",
        "  return(player_c)\n",
        "\n",
        "def winner(player_c,bot):\n",
        "  if player_c == 1 and bot == \"rock\": # Tie condition for rock\n",
        "    print(\"It's a tie\")\n",
        "\n",
        "  elif player_c==1 and bot==\"scissors\":\n",
        "    print(\"you win\")\n",
        "\n",
        "  elif player_c==2 and bot==\"rock\":\n",
        "    print(\"you win\")\n",
        "\n",
        "  elif player_c==3 and bot==\"paper\":\n",
        "    print(\"you win\")\n",
        "\n",
        "  elif player_c == 2 and bot == \"paper\": # Tie condition for paper\n",
        "    print(\"It's a tie\")\n",
        "\n",
        "  elif player_c == 3 and bot == \"scissors\": # Tie condition for scissors\n",
        "    print(\"It's a tie\")\n",
        "\n",
        "  else:\n",
        "    print(\"you lose\")\n",
        "\n",
        "\n",
        "# Start the game\n",
        "option = \"Y\"\n",
        "while option.lower() == \"y\":\n",
        "  player()\n",
        "  option = input(\"Do you want to play again? Y/N\")\n",
        "\n",
        "\n",
        "\n",
        "print(\"Thanks for playing\")"
      ]
    }
  ],
  "metadata": {
    "colab": {
      "provenance": [],
      "authorship_tag": "ABX9TyOpPSSrtdt9gUXEHmDrTGyt",
      "include_colab_link": true
    },
    "kernelspec": {
      "display_name": "Python 3",
      "name": "python3"
    },
    "language_info": {
      "name": "python"
    }
  },
  "nbformat": 4,
  "nbformat_minor": 0
}